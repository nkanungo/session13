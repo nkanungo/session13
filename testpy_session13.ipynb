{
 "cells": [
  {
   "cell_type": "code",
   "execution_count": 36,
   "metadata": {},
   "outputs": [],
   "source": [
    "import session13_1\n",
    "import session13_2\n",
    "import os"
   ]
  },
  {
   "cell_type": "code",
   "execution_count": 37,
   "metadata": {},
   "outputs": [],
   "source": [
    "# Test Functions"
   ]
  },
  {
   "cell_type": "code",
   "execution_count": 45,
   "metadata": {},
   "outputs": [],
   "source": [
    "def test_get_edge():\n",
    "    p1=session13_1.Polygon(4,5)\n",
    "    return p1.edge \n",
    "\n",
    "def test_set_get_edge():\n",
    "    p1=session13_1.Polygon(4,5)\n",
    "    p1.edge = 6\n",
    "    return p1.edge \n",
    "\n",
    "def test_get_radius():\n",
    "    p1=session13_1.Polygon(4,5)\n",
    "    return p1.circumradius \n",
    "\n",
    "def test_set_get_radius():\n",
    "    p1=session13_1.Polygon(4,5)\n",
    "    p1.circumradius = 10\n",
    "    return p1.circumradius \n",
    "\n",
    "def test_set_get_interior_angle():\n",
    "    p1=session13_1.Polygon(4,5)\n",
    "    return p1.interior_angle \n",
    "\n",
    "def test_get_edge_length():\n",
    "    p1=session13_1.Polygon(4,5)\n",
    "    return round(p1.edge_length,2) \n",
    "\n",
    "def test_get_apothem():\n",
    "    p1=session13_1.Polygon(4,5)\n",
    "    return round(p1.apothem,2) \n",
    "\n",
    "def test_get_area():\n",
    "    p1=session13_1.Polygon(4,5)\n",
    "    return round(p1.area,2) \n",
    "\n",
    "def test_get_perimeter():\n",
    "    p1=session13_1.Polygon(4,5)\n",
    "    return round(p1.perimeter,2)\n",
    "\n",
    "def test_get_repr():\n",
    "    p1=session13_1.Polygon(4,5)\n",
    "    return repr(p1) \n",
    "\n",
    "def test_get_str():\n",
    "    p1=session13_1.Polygon(4,5)\n",
    "    return str(p1) \n",
    "\n",
    "def test_not_equal():\n",
    "    p1=session13_1.Polygon(4,5)\n",
    "    p2=session13_1.Polygon(5,6)\n",
    "    return p1 != p2 \n",
    "def test_equal():\n",
    "    p1=session13_1.Polygon(4,5)\n",
    "    p2=session13_1.Polygon(4,5)\n",
    "    return p1 == p2 \n",
    "\n",
    "def test_not_greater():\n",
    "    p1=session13_1.Polygon(4,5)\n",
    "    p2=session13_1.Polygon(5,6)\n",
    "    return not (p1 > p2)\n",
    "\n",
    "def test_greater():\n",
    "    p1=session13_1.Polygon(4,5)\n",
    "    p2=session13_1.Polygon(5,6)\n",
    "    return p2 > p1 \n",
    "\n",
    "def test_repr_2():\n",
    "    r1 = session13_2.Polygon(15,15)\n",
    "    return r1.__repr__()\n",
    "\n",
    "def test_seq_list():\n",
    "    r1 = session13_2.Polygon(25,15)\n",
    "    return r1.__getitem__\n",
    "def test_max_eff():\n",
    "    r1 = session13_2.Polygon(25,15)\n",
    "    r1._max_eff(test_seq_list())\n",
    "    \n",
    "\n"
   ]
  },
  {
   "cell_type": "markdown",
   "metadata": {},
   "source": [
    "# Testing "
   ]
  },
  {
   "cell_type": "code",
   "execution_count": 46,
   "metadata": {},
   "outputs": [
    {
     "name": "stdout",
     "output_type": "stream",
     "text": [
      " the edge of Polygon is 4\n",
      " the updated edge of Polygon is 4\n",
      " the circum radius of Polygon is 5\n",
      " the updated circum radius of Polygon is 10\n",
      " the interior angle of Polygon is 90.0\n",
      " the edge length of Polygon is 7.07\n",
      " the Apothem of Polygon is 3.54\n",
      " the Area of Polygon is 50.0\n",
      " the Perimeter of Polygon is 14.14\n",
      " representation :   Polygon(4, 5)\n",
      " the string function returned :   Polygon: edge=4, circumradius=5\n",
      " the output of equal function is  :   True\n",
      " the output of equal function is  :   True\n",
      " the output of greater function is  :   True\n",
      " the output of greater function is  :   True\n",
      " let us represent  :   Polygon(15, 15)\n",
      " sequence  :   <bound method Polygon.__getitem__ of Polygon(25, 15)>\n"
     ]
    },
    {
     "ename": "AttributeError",
     "evalue": "'function' object has no attribute 'index'",
     "output_type": "error",
     "traceback": [
      "\u001b[1;31m---------------------------------------------------------------------------\u001b[0m",
      "\u001b[1;31mAttributeError\u001b[0m                            Traceback (most recent call last)",
      "\u001b[1;32m<ipython-input-46-c565d44bfb75>\u001b[0m in \u001b[0;36m<module>\u001b[1;34m\u001b[0m\n\u001b[0;32m     16\u001b[0m \u001b[0mprint\u001b[0m\u001b[1;33m(\u001b[0m\u001b[1;34mf' let us represent  :   {test_repr_2()}'\u001b[0m\u001b[1;33m)\u001b[0m\u001b[1;33m\u001b[0m\u001b[0m\n\u001b[0;32m     17\u001b[0m \u001b[0mprint\u001b[0m\u001b[1;33m(\u001b[0m\u001b[1;34mf' sequence  :   {test_seq_list()}'\u001b[0m\u001b[1;33m)\u001b[0m\u001b[1;33m\u001b[0m\u001b[0m\n\u001b[1;32m---> 18\u001b[1;33m \u001b[0mprint\u001b[0m\u001b[1;33m(\u001b[0m\u001b[1;34mf' max value is  :   {test_max_eff()}'\u001b[0m\u001b[1;33m)\u001b[0m\u001b[1;33m\u001b[0m\u001b[0m\n\u001b[0m\u001b[0;32m     19\u001b[0m \u001b[1;33m\u001b[0m\u001b[0m\n\u001b[0;32m     20\u001b[0m \u001b[1;33m\u001b[0m\u001b[0m\n",
      "\u001b[1;32m<ipython-input-45-e2b556584511>\u001b[0m in \u001b[0;36mtest_max_eff\u001b[1;34m()\u001b[0m\n\u001b[0;32m     73\u001b[0m \u001b[1;32mdef\u001b[0m \u001b[0mtest_max_eff\u001b[0m\u001b[1;33m(\u001b[0m\u001b[1;33m)\u001b[0m\u001b[1;33m:\u001b[0m\u001b[1;33m\u001b[0m\u001b[0m\n\u001b[0;32m     74\u001b[0m     \u001b[0mr1\u001b[0m \u001b[1;33m=\u001b[0m \u001b[0msession13_2\u001b[0m\u001b[1;33m.\u001b[0m\u001b[0mPolygon\u001b[0m\u001b[1;33m(\u001b[0m\u001b[1;36m25\u001b[0m\u001b[1;33m,\u001b[0m\u001b[1;36m15\u001b[0m\u001b[1;33m)\u001b[0m\u001b[1;33m\u001b[0m\u001b[0m\n\u001b[1;32m---> 75\u001b[1;33m     \u001b[0mr1\u001b[0m\u001b[1;33m.\u001b[0m\u001b[0m_max_eff\u001b[0m\u001b[1;33m(\u001b[0m\u001b[0mtest_seq_list\u001b[0m\u001b[1;33m(\u001b[0m\u001b[1;33m)\u001b[0m\u001b[1;33m)\u001b[0m\u001b[1;33m\u001b[0m\u001b[0m\n\u001b[0m\u001b[0;32m     76\u001b[0m \u001b[1;33m\u001b[0m\u001b[0m\n\u001b[0;32m     77\u001b[0m \u001b[1;33m\u001b[0m\u001b[0m\n",
      "\u001b[1;32m~\\session13_2.py\u001b[0m in \u001b[0;36m_max_eff\u001b[1;34m(self, seq_list)\u001b[0m\n\u001b[0;32m     56\u001b[0m         \u001b[0mReturns\u001b[0m \u001b[0mthe\u001b[0m \u001b[0mPolygon\u001b[0m \u001b[1;32mwith\u001b[0m \u001b[0mmaximum\u001b[0m \u001b[0mArea\u001b[0m \u001b[0mto\u001b[0m \u001b[0mPerimeter\u001b[0m \u001b[0mratio\u001b[0m\u001b[1;33m\u001b[0m\u001b[0m\n\u001b[0;32m     57\u001b[0m         '''\n\u001b[1;32m---> 58\u001b[1;33m         \u001b[1;32mreturn\u001b[0m \u001b[1;34mf' The Maximum ratio is for the Polygon {seq_list.index(max(seq_list)) +1} and the ratio is {max(seq_list)}'\u001b[0m\u001b[1;33m\u001b[0m\u001b[0m\n\u001b[0m",
      "\u001b[1;31mAttributeError\u001b[0m: 'function' object has no attribute 'index'"
     ]
    }
   ],
   "source": [
    "print(f' the edge of Polygon is {test_get_edge()}')\n",
    "print(f' the updated edge of Polygon is {test_get_edge()}')\n",
    "print(f' the circum radius of Polygon is {test_get_radius()}')\n",
    "print(f' the updated circum radius of Polygon is {test_set_get_radius()}')\n",
    "print(f' the interior angle of Polygon is {test_set_get_interior_angle()}')\n",
    "print(f' the edge length of Polygon is {test_get_edge_length()}')\n",
    "print(f' the Apothem of Polygon is {test_get_apothem()}')\n",
    "print(f' the Area of Polygon is {test_get_area()}')\n",
    "print(f' the Perimeter of Polygon is {test_get_perimeter()}')\n",
    "print(f' representation :   {test_get_repr()}')\n",
    "print(f' the string function returned :   {test_get_str()}')\n",
    "print(f' the output of equal function is  :   {test_not_equal()}')\n",
    "print(f' the output of equal function is  :   {test_equal()}')\n",
    "print(f' the output of greater function is  :   {test_not_greater()}')\n",
    "print(f' the output of greater function is  :   {test_greater()}')\n",
    "print(f' let us represent  :   {test_repr_2()}')\n",
    "print(f' sequence  :   {test_seq_list()}')\n",
    "print(f' max value is  :   {test_max_eff()}')\n",
    "\n",
    "\n",
    "\n",
    "\n",
    "\n",
    "\n",
    "\n",
    "\n",
    "    \n",
    "\n"
   ]
  },
  {
   "cell_type": "code",
   "execution_count": null,
   "metadata": {},
   "outputs": [],
   "source": []
  }
 ],
 "metadata": {
  "kernelspec": {
   "display_name": "Python 3",
   "language": "python",
   "name": "python3"
  },
  "language_info": {
   "codemirror_mode": {
    "name": "ipython",
    "version": 3
   },
   "file_extension": ".py",
   "mimetype": "text/x-python",
   "name": "python",
   "nbconvert_exporter": "python",
   "pygments_lexer": "ipython3",
   "version": "3.6.5"
  }
 },
 "nbformat": 4,
 "nbformat_minor": 4
}
