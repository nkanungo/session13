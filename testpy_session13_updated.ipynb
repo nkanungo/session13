{
 "cells": [
  {
   "cell_type": "code",
   "execution_count": 1,
   "metadata": {},
   "outputs": [],
   "source": [
    "import session13_1\n",
    "import session13_2\n",
    "import os"
   ]
  },
  {
   "cell_type": "code",
   "execution_count": 2,
   "metadata": {},
   "outputs": [
    {
     "data": {
      "text/plain": [
       "'Polygon(25, 10)'"
      ]
     },
     "execution_count": 2,
     "metadata": {},
     "output_type": "execute_result"
    }
   ],
   "source": [
    "\n",
    "p1=session13_1.Polygon(25,10)\n",
    "p1.__repr__()"
   ]
  },
  {
   "cell_type": "code",
   "execution_count": 3,
   "metadata": {},
   "outputs": [
    {
     "data": {
      "text/plain": [
       "['__class__',\n",
       " '__delattr__',\n",
       " '__dict__',\n",
       " '__dir__',\n",
       " '__doc__',\n",
       " '__eq__',\n",
       " '__format__',\n",
       " '__ge__',\n",
       " '__getattribute__',\n",
       " '__gt__',\n",
       " '__hash__',\n",
       " '__init__',\n",
       " '__init_subclass__',\n",
       " '__le__',\n",
       " '__lt__',\n",
       " '__module__',\n",
       " '__ne__',\n",
       " '__new__',\n",
       " '__reduce__',\n",
       " '__reduce_ex__',\n",
       " '__repr__',\n",
       " '__setattr__',\n",
       " '__sizeof__',\n",
       " '__str__',\n",
       " '__subclasshook__',\n",
       " '__weakref__',\n",
       " '_circumradius',\n",
       " '_edge',\n",
       " 'apothem',\n",
       " 'area',\n",
       " 'circumradius',\n",
       " 'edge',\n",
       " 'edge_length',\n",
       " 'interior_angle',\n",
       " 'perimeter']"
      ]
     },
     "execution_count": 3,
     "metadata": {},
     "output_type": "execute_result"
    }
   ],
   "source": [
    "dir(p1)"
   ]
  },
  {
   "cell_type": "markdown",
   "metadata": {},
   "source": [
    "# Test Functions"
   ]
  },
  {
   "cell_type": "code",
   "execution_count": 11,
   "metadata": {},
   "outputs": [],
   "source": [
    "def test_get_edge():\n",
    "    p1=session13_1.Polygon(4,5)\n",
    "    return p1.edge \n",
    "\n",
    "def test_set_get_edge():\n",
    "    p1=session13_1.Polygon(4,5)\n",
    "    p1.edge = 6\n",
    "    return p1.edge \n",
    "\n",
    "def test_get_radius():\n",
    "    p1=session13_1.Polygon(4,5)\n",
    "    return p1.circumradius \n",
    "\n",
    "def test_set_get_radius():\n",
    "    p1=session13_1.Polygon(4,5)\n",
    "    p1.circumradius = 10\n",
    "    return p1.circumradius \n",
    "\n",
    "def test_set_get_interior_angle():\n",
    "    p1=session13_1.Polygon(4,5)\n",
    "    return p1.interior_angle \n",
    "\n",
    "def test_get_edge_length():\n",
    "    p1=session13_1.Polygon(4,5)\n",
    "    return round(p1.edge_length,2) \n",
    "\n",
    "def test_get_apothem():\n",
    "    p1=session13_1.Polygon(4,5)\n",
    "    return round(p1.apothem,2) \n",
    "\n",
    "def test_get_area():\n",
    "    p1=session13_1.Polygon(4,5)\n",
    "    return round(p1.area,2) \n",
    "\n",
    "def test_get_perimeter():\n",
    "    p1=session13_1.Polygon(4,5)\n",
    "    return round(p1.perimeter,2)\n",
    "\n",
    "def test_get_repr():\n",
    "    p1=session13_1.Polygon(4,5)\n",
    "    return repr(p1) \n",
    "\n",
    "def test_get_str():\n",
    "    p1=session13_1.Polygon(4,5)\n",
    "    return str(p1) \n",
    "\n",
    "def test_not_equal():\n",
    "    p1=session13_1.Polygon(4,5)\n",
    "    p2=session13_1.Polygon(5,6)\n",
    "    return p1 != p2 \n",
    "def test_equal():\n",
    "    p1=session13_1.Polygon(4,5)\n",
    "    p2=session13_1.Polygon(4,5)\n",
    "    return p1 == p2 \n",
    "\n",
    "def test_not_greater():\n",
    "    p1=session13_1.Polygon(4,5)\n",
    "    p2=session13_1.Polygon(5,6)\n",
    "    return not (p1 > p2)\n",
    "\n",
    "def test_greater():\n",
    "    p1=session13_1.Polygon(4,5)\n",
    "    p2=session13_1.Polygon(5,6)\n",
    "    return p2 > p1 \n",
    "\n",
    "def test_repr_2():\n",
    "    r1 = session13_2.Polygon(15,15)\n",
    "    return r1.__repr__()\n",
    "\n",
    "def test_seq_list():\n",
    "    r1 = session13_2.Polygon(25,15)\n",
    "    return list(r1)\n",
    "def test_max_eff():\n",
    "    r1 = session13_2.Polygon(25,15)\n",
    "    seq_list= list(r1)\n",
    "    return r1._max_eff(seq_list)\n",
    "    \n",
    "\n"
   ]
  },
  {
   "cell_type": "markdown",
   "metadata": {},
   "source": [
    "# Testing "
   ]
  },
  {
   "cell_type": "code",
   "execution_count": 12,
   "metadata": {},
   "outputs": [
    {
     "name": "stdout",
     "output_type": "stream",
     "text": [
      " the edge of Polygon is 4\n",
      " the updated edge of Polygon is 4\n",
      " the circum radius of Polygon is 5\n",
      " the updated circum radius of Polygon is 10\n",
      " the interior angle of Polygon is 90.0\n",
      " the edge length of Polygon is 7.07\n",
      " the Apothem of Polygon is 3.54\n",
      " the Area of Polygon is 50.0\n",
      " the Perimeter of Polygon is 14.14\n",
      " representation :   Polygon(4, 5)\n",
      " the string function returned :   Polygon: edge=4, circumradius=5\n",
      " the output of equal function is  :   True\n",
      " the output of equal function is  :   True\n",
      " the output of greater function is  :   True\n",
      " the output of greater function is  :   True\n",
      " let us represent  :   Polygon(15, 15)\n",
      " sequence  :   [0, 0, 0.0, 3.75, 5.303, 6.068, 6.495, 6.757, 6.929, 7.048, 7.133, 7.196, 7.244, 7.282, 7.312, 7.336, 7.356, 7.372, 7.386, 7.398, 7.408, 7.416, 7.424, 7.43, 7.436, 7.441]\n",
      " max value is  :    The Maximum ratio is for the Polygon 26 and the ratio is 7.441\n"
     ]
    }
   ],
   "source": [
    "print(f' the edge of Polygon is {test_get_edge()}')\n",
    "print(f' the updated edge of Polygon is {test_get_edge()}')\n",
    "print(f' the circum radius of Polygon is {test_get_radius()}')\n",
    "print(f' the updated circum radius of Polygon is {test_set_get_radius()}')\n",
    "print(f' the interior angle of Polygon is {test_set_get_interior_angle()}')\n",
    "print(f' the edge length of Polygon is {test_get_edge_length()}')\n",
    "print(f' the Apothem of Polygon is {test_get_apothem()}')\n",
    "print(f' the Area of Polygon is {test_get_area()}')\n",
    "print(f' the Perimeter of Polygon is {test_get_perimeter()}')\n",
    "print(f' representation :   {test_get_repr()}')\n",
    "print(f' the string function returned :   {test_get_str()}')\n",
    "print(f' the output of equal function is  :   {test_not_equal()}')\n",
    "print(f' the output of equal function is  :   {test_equal()}')\n",
    "print(f' the output of greater function is  :   {test_not_greater()}')\n",
    "print(f' the output of greater function is  :   {test_greater()}')\n",
    "print(f' let us represent  :   {test_repr_2()}')\n",
    "print(f' sequence  :   {test_seq_list()}')\n",
    "print(f' max value is  :   {test_max_eff()}')"
   ]
  }
 ],
 "metadata": {
  "kernelspec": {
   "display_name": "Python 3",
   "language": "python",
   "name": "python3"
  },
  "language_info": {
   "codemirror_mode": {
    "name": "ipython",
    "version": 3
   },
   "file_extension": ".py",
   "mimetype": "text/x-python",
   "name": "python",
   "nbconvert_exporter": "python",
   "pygments_lexer": "ipython3",
   "version": "3.6.5"
  }
 },
 "nbformat": 4,
 "nbformat_minor": 4
}
